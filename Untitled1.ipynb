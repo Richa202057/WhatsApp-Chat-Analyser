{
 "cells": [
  {
   "cell_type": "code",
   "execution_count": 1,
   "id": "13b977da",
   "metadata": {},
   "outputs": [],
   "source": [
    "import re\n",
    "import pandas as pd\n",
    "import numpy as np\n",
    "import emoji\n",
    "from collections import Counter\n",
    "import matplotlib.pyplot as plt\n",
    "from PIL import Image\n",
    "from wordcloud import WordCloud, STOPWORDS, ImageColorGenerator"
   ]
  },
  {
   "cell_type": "code",
   "execution_count": 2,
   "id": "2c805bcf",
   "metadata": {},
   "outputs": [
    {
     "data": {
      "text/html": [
       "<div>\n",
       "<style scoped>\n",
       "    .dataframe tbody tr th:only-of-type {\n",
       "        vertical-align: middle;\n",
       "    }\n",
       "\n",
       "    .dataframe tbody tr th {\n",
       "        vertical-align: top;\n",
       "    }\n",
       "\n",
       "    .dataframe thead th {\n",
       "        text-align: right;\n",
       "    }\n",
       "</style>\n",
       "<table border=\"1\" class=\"dataframe\">\n",
       "  <thead>\n",
       "    <tr style=\"text-align: right;\">\n",
       "      <th></th>\n",
       "      <th>user</th>\n",
       "      <th>msg</th>\n",
       "      <th>year</th>\n",
       "      <th>month</th>\n",
       "      <th>day</th>\n",
       "      <th>day name</th>\n",
       "      <th>Hour</th>\n",
       "      <th>Minute</th>\n",
       "    </tr>\n",
       "  </thead>\n",
       "  <tbody>\n",
       "    <tr>\n",
       "      <th>0</th>\n",
       "      <td>grp_notif</td>\n",
       "      <td>Messages and calls are end-to-end encrypted. N...</td>\n",
       "      <td>2021</td>\n",
       "      <td>April</td>\n",
       "      <td>1</td>\n",
       "      <td>Thursday</td>\n",
       "      <td>21</td>\n",
       "      <td>29</td>\n",
       "    </tr>\n",
       "    <tr>\n",
       "      <th>1</th>\n",
       "      <td>Pranay Gupta</td>\n",
       "      <td>&lt;Media omitted&gt;</td>\n",
       "      <td>2021</td>\n",
       "      <td>April</td>\n",
       "      <td>2</td>\n",
       "      <td>Friday</td>\n",
       "      <td>23</td>\n",
       "      <td>52</td>\n",
       "    </tr>\n",
       "    <tr>\n",
       "      <th>2</th>\n",
       "      <td>Nisha Jhaa</td>\n",
       "      <td>All Students of this batch are advised to join...</td>\n",
       "      <td>2021</td>\n",
       "      <td>April</td>\n",
       "      <td>5</td>\n",
       "      <td>Monday</td>\n",
       "      <td>10</td>\n",
       "      <td>26</td>\n",
       "    </tr>\n",
       "    <tr>\n",
       "      <th>3</th>\n",
       "      <td>Pranay Gupta</td>\n",
       "      <td>[*HMHU201 ROUTINE* ---------------------------...</td>\n",
       "      <td>2021</td>\n",
       "      <td>April</td>\n",
       "      <td>8</td>\n",
       "      <td>Thursday</td>\n",
       "      <td>9</td>\n",
       "      <td>44</td>\n",
       "    </tr>\n",
       "    <tr>\n",
       "      <th>4</th>\n",
       "      <td>+91 89007 48898</td>\n",
       "      <td>&lt;Media omitted&gt;</td>\n",
       "      <td>2021</td>\n",
       "      <td>April</td>\n",
       "      <td>9</td>\n",
       "      <td>Friday</td>\n",
       "      <td>21</td>\n",
       "      <td>29</td>\n",
       "    </tr>\n",
       "    <tr>\n",
       "      <th>...</th>\n",
       "      <td>...</td>\n",
       "      <td>...</td>\n",
       "      <td>...</td>\n",
       "      <td>...</td>\n",
       "      <td>...</td>\n",
       "      <td>...</td>\n",
       "      <td>...</td>\n",
       "      <td>...</td>\n",
       "    </tr>\n",
       "    <tr>\n",
       "      <th>1065</th>\n",
       "      <td>+91 70982 85642</td>\n",
       "      <td>Syllabus link me dekh le....BHAI</td>\n",
       "      <td>2022</td>\n",
       "      <td>December</td>\n",
       "      <td>25</td>\n",
       "      <td>Sunday</td>\n",
       "      <td>19</td>\n",
       "      <td>58</td>\n",
       "    </tr>\n",
       "    <tr>\n",
       "      <th>1066</th>\n",
       "      <td>+91 70982 85642</td>\n",
       "      <td>Esi bahane IIT bhi ghum aayenge</td>\n",
       "      <td>2022</td>\n",
       "      <td>December</td>\n",
       "      <td>25</td>\n",
       "      <td>Sunday</td>\n",
       "      <td>19</td>\n",
       "      <td>59</td>\n",
       "    </tr>\n",
       "    <tr>\n",
       "      <th>1067</th>\n",
       "      <td>+91 82526 19626</td>\n",
       "      <td>Terako esehi IIT guma laenge</td>\n",
       "      <td>2022</td>\n",
       "      <td>December</td>\n",
       "      <td>25</td>\n",
       "      <td>Sunday</td>\n",
       "      <td>20</td>\n",
       "      <td>40</td>\n",
       "    </tr>\n",
       "    <tr>\n",
       "      <th>1068</th>\n",
       "      <td>+91 70046 61449</td>\n",
       "      <td>Kitna kama leta h ye sab share karke din bhar m🥲</td>\n",
       "      <td>2022</td>\n",
       "      <td>December</td>\n",
       "      <td>25</td>\n",
       "      <td>Sunday</td>\n",
       "      <td>21</td>\n",
       "      <td>7</td>\n",
       "    </tr>\n",
       "    <tr>\n",
       "      <th>1069</th>\n",
       "      <td>+91 70982 85642</td>\n",
       "      <td>😅 Bhaishab mera isme koi earning nhi...Sirf pa...</td>\n",
       "      <td>2022</td>\n",
       "      <td>December</td>\n",
       "      <td>25</td>\n",
       "      <td>Sunday</td>\n",
       "      <td>21</td>\n",
       "      <td>46</td>\n",
       "    </tr>\n",
       "  </tbody>\n",
       "</table>\n",
       "<p>1070 rows × 8 columns</p>\n",
       "</div>"
      ],
      "text/plain": [
       "                 user                                                msg  \\\n",
       "0           grp_notif  Messages and calls are end-to-end encrypted. N...   \n",
       "1        Pranay Gupta                                   <Media omitted>    \n",
       "2          Nisha Jhaa  All Students of this batch are advised to join...   \n",
       "3        Pranay Gupta  [*HMHU201 ROUTINE* ---------------------------...   \n",
       "4     +91 89007 48898                                   <Media omitted>    \n",
       "...               ...                                                ...   \n",
       "1065  +91 70982 85642                  Syllabus link me dekh le....BHAI    \n",
       "1066  +91 70982 85642                   Esi bahane IIT bhi ghum aayenge    \n",
       "1067  +91 82526 19626                      Terako esehi IIT guma laenge    \n",
       "1068  +91 70046 61449  Kitna kama leta h ye sab share karke din bhar m🥲    \n",
       "1069  +91 70982 85642  😅 Bhaishab mera isme koi earning nhi...Sirf pa...   \n",
       "\n",
       "      year     month  day  day name  Hour  Minute  \n",
       "0     2021     April    1  Thursday    21      29  \n",
       "1     2021     April    2    Friday    23      52  \n",
       "2     2021     April    5    Monday    10      26  \n",
       "3     2021     April    8  Thursday     9      44  \n",
       "4     2021     April    9    Friday    21      29  \n",
       "...    ...       ...  ...       ...   ...     ...  \n",
       "1065  2022  December   25    Sunday    19      58  \n",
       "1066  2022  December   25    Sunday    19      59  \n",
       "1067  2022  December   25    Sunday    20      40  \n",
       "1068  2022  December   25    Sunday    21       7  \n",
       "1069  2022  December   25    Sunday    21      46  \n",
       "\n",
       "[1070 rows x 8 columns]"
      ]
     },
     "execution_count": 2,
     "metadata": {},
     "output_type": "execute_result"
    }
   ],
   "source": [
    "def rawToDf(file, key):\n",
    "    split_formats = {\n",
    "        '12hr' : '\\d{1,2}/\\d{1,2}/\\d{2,4},\\s\\d{1,2}:\\d{2}\\s[APap][mM]\\s-\\s',\n",
    "        '24hr' : '\\d{1,2}/\\d{1,2}/\\d{2,4},\\s\\d{1,2}:\\d{2}\\s-\\s',\n",
    "        'custom' : ''\n",
    "    }\n",
    "    datetime_formats = {\n",
    "        '12hr' : '%d/%m/%Y, %I:%M %p - ',\n",
    "        '24hr' : '%d/%m/%Y, %H:%M - ',\n",
    "        'custom': ''\n",
    "    }\n",
    "    \n",
    "    with open(file, 'r',encoding=\"utf-8\") as raw_data:\n",
    "        raw_string = ' '.join(raw_data.read().split('\\n')) # converting the list split by newline char. as one whole string as there can be multi-line messages\n",
    "        user_msg = re.split(split_formats[key], raw_string) [1:] # splits at all the date-time pattern, resulting in list of all the messages with user names\n",
    "        date_time = re.findall(split_formats[key], raw_string) # finds all the date-time patterns\n",
    "        \n",
    "        df = pd.DataFrame({'date_time': date_time, 'user_msg': user_msg}) # exporting it to a df\n",
    "        \n",
    "    # converting date-time pattern which is of type String to type datetime,\n",
    "    # format is to be specified for the whole string where the placeholders are extracted by the method \n",
    "    df['date_time'] = pd.to_datetime(df['date_time'], format=datetime_formats[key])\n",
    "    \n",
    "    # split user and msg \n",
    "    usernames = []\n",
    "    msgs = []\n",
    "    for i in df['user_msg']:\n",
    "        a = re.split('([\\w\\W]+?):\\s', i) # lazy pattern match to first {user_name}: pattern and spliting it aka each msg from a user\n",
    "        #print(a)\n",
    "        if(a[1:]): # user typed messages\n",
    "            usernames.append(a[1])\n",
    "            if a[2]=='':\n",
    "                msgs.append(a[3:])\n",
    "            else:\n",
    "                msgs.append(a[2])\n",
    "        else: # other notifications in the group(eg: someone was added, some left ...)\n",
    "            usernames.append(\"grp_notif\")\n",
    "            msgs.append(a[0])\n",
    "\n",
    "    # creating new columns         \n",
    "    df['user'] = usernames\n",
    "    df['msg'] = msgs\n",
    "    \n",
    "    # dropping the old user_msg col.\n",
    "    df.drop('user_msg', axis=1, inplace=True)\n",
    "    \n",
    "    # creating new columns\n",
    "    df[\"year\"]=df[\"date_time\"].dt.year\n",
    "    df[\"month\"]=df[\"date_time\"].dt.month_name()\n",
    "    df[\"day\"]=df[\"date_time\"].dt.day\n",
    "    df[\"day name\"]=df[\"date_time\"].dt.day_name()\n",
    "    df[\"Hour\"]=df[\"date_time\"].dt.hour\n",
    "    df[\"Minute\"]=df[\"date_time\"].dt.minute\n",
    "   \n",
    "    # dropping the old date_time col.\n",
    "    \n",
    "    df.drop('date_time',axis=1,inplace=True)\n",
    "    \n",
    "    return df\n",
    "df = rawToDf('WhatsApp Chat with AEC Army24.txt', '12hr')\n",
    "df"
   ]
  },
  {
   "cell_type": "markdown",
   "id": "ddf9b47b",
   "metadata": {},
   "source": [
    "### value_counts return counts of unique values "
   ]
  },
  {
   "cell_type": "code",
   "execution_count": 27,
   "id": "e5edb3c3",
   "metadata": {},
   "outputs": [
    {
     "data": {
      "text/plain": [
       "+91 70046 61449     158\n",
       "Saptrishi IT         98\n",
       "+91 80920 28601      60\n",
       "Amit singh           57\n",
       "Roshan Sigh (IT)     56\n",
       "Name: user, dtype: int64"
      ]
     },
     "execution_count": 27,
     "metadata": {},
     "output_type": "execute_result"
    }
   ],
   "source": [
    "x = df[\"user\"].value_counts(ascending= False).head()\n",
    "type(x)\n",
    "x"
   ]
  },
  {
   "cell_type": "code",
   "execution_count": 14,
   "id": "0c90de79",
   "metadata": {},
   "outputs": [
    {
     "data": {
      "text/plain": [
       "Index(['+91 70046 61449', 'Saptrishi IT', '+91 80920 28601', 'Amit singh',\n",
       "       'Roshan Sigh (IT)', 'Pranay Gupta', 'Nisha Jhaa', '+91 70982 85642',\n",
       "       'anmolguptaa IT', '+91 89007 48898', 'Meghal Pandey', '+91 74077 58357',\n",
       "       '+91 79085 77300', '+91 70042 27428', '+91 96479 77102',\n",
       "       '+91 81454 74132', 'YUVI', 'Aakansha', '+91 70476 60590',\n",
       "       '+91 79081 15645', '+91 6297 561 353', '+91 79952 35901',\n",
       "       '+91 77970 58594', '+91 79084 72956', '+91 91284 92018',\n",
       "       '+91 79923 21676', '+91 74887 47611', '+91 76676 57170',\n",
       "       '+91 81019 11706', 'Nidhi (Batch 2)', '+91 83708 56608',\n",
       "       '+91 79892 93955', 'Shahla', 'Shuvam Kumar Choudhury IT', 'Priya Jha',\n",
       "       '+91 82526 19626', '+91 6295 985 790', 'Shruti IT', '+91 74773 86662',\n",
       "       'Nandini', 'Priyanka IT', '+91 86373 27300', 'Richa', '+91 73190 50797',\n",
       "       '+91 6297 993 104', '+91 88776 23200', '+91 85818 25581',\n",
       "       '+91 81015 99559', '+91 89670 72236', '+91 81457 64555',\n",
       "       '+91 89670 69645', 'grp_notif', '+91 90021 63127', '+91 89184 08490',\n",
       "       '+91 81720 27613', 'Anukul IT Batch 1', '+91 6202 555 150',\n",
       "       '+91 6295 740 076', 'Payal', '+91 86178 84560', '+91 91100 42451',\n",
       "       '+91 81164 04464', '+91 6206 483 575', '+91 86175 50047',\n",
       "       '+91 90933 49101', 'Ankita', '+91 70013 91530', '+91 6296 854 450',\n",
       "       '+91 75858 67636'],\n",
       "      dtype='object')"
      ]
     },
     "execution_count": 14,
     "metadata": {},
     "output_type": "execute_result"
    }
   ],
   "source": [
    "name = x.index\n",
    "type(name)\n",
    "name"
   ]
  },
  {
   "cell_type": "markdown",
   "id": "521a8d10",
   "metadata": {},
   "source": [
    "# subplots() in matplotlib"
   ]
  },
  {
   "cell_type": "code",
   "execution_count": 19,
   "id": "b03e582f",
   "metadata": {},
   "outputs": [
    {
     "data": {
      "image/png": "[encoded data removed]",
      "text/plain": [
       "<Figure size 432x288 with 1 Axes>"
      ]
     },
     "metadata": {
      "needs_background": "light"
     },
     "output_type": "display_data"
    }
   ],
   "source": [
    "fig, ax = plt.subplots()"
   ]
  },
  {
   "cell_type": "markdown",
   "id": "ef524231",
   "metadata": {},
   "source": [
    "## We created two variables, fig and ax. It is only convention to use these names .Though we can use any name .\n",
    "### These two variables now hold the two core objects used for all types of plotting operations.\n",
    "### fig, short for figure, imagine it as the frame of your plot . you cannot draw on it. You can resize, reshape the frame\n",
    "### ax, short for axes, is the blank sheet you can plot and hold your data"
   ]
  },
  {
   "cell_type": "code",
   "execution_count": 29,
   "id": "42d74467",
   "metadata": {},
   "outputs": [
    {
     "data": {
      "text/plain": [
       "<BarContainer object of 5 artists>"
      ]
     },
     "execution_count": 29,
     "metadata": {},
     "output_type": "execute_result"
    },
    {
     "data": {
      "image/png": "[encoded data removed]",
      "text/plain": [
       "<Figure size 432x288 with 1 Axes>"
      ]
     },
     "metadata": {
      "needs_background": "light"
     },
     "output_type": "display_data"
    }
   ],
   "source": [
    "fig, ax = plt.subplots()\n",
    "ax.bar(x.index,x.values)"
   ]
  },
  {
   "cell_type": "code",
   "execution_count": 30,
   "id": "09320d5a",
   "metadata": {},
   "outputs": [
    {
     "data": {
      "text/plain": [
       "([0, 1, 2, 3, 4],\n",
       " [Text(0, 0, ''),\n",
       "  Text(0, 0, ''),\n",
       "  Text(0, 0, ''),\n",
       "  Text(0, 0, ''),\n",
       "  Text(0, 0, '')])"
      ]
     },
     "execution_count": 30,
     "metadata": {},
     "output_type": "execute_result"
    },
    {
     "data": {
      "image/png": "[encoded data removed]",
      "text/plain": [
       "<Figure size 432x288 with 1 Axes>"
      ]
     },
     "metadata": {
      "needs_background": "light"
     },
     "output_type": "display_data"
    }
   ],
   "source": [
    "fig, ax = plt.subplots()\n",
    "ax.bar(x.index,x.values)\n",
    "plt.xticks(rotation='vertical')"
   ]
  },
  {
   "cell_type": "code",
   "execution_count": 32,
   "id": "d993f6bd",
   "metadata": {},
   "outputs": [
    {
     "data": {
      "text/plain": [
       "<wordcloud.wordcloud.WordCloud at 0x1ab49803d00>"
      ]
     },
     "execution_count": 32,
     "metadata": {},
     "output_type": "execute_result"
    }
   ],
   "source": [
    "wc = WordCloud(width=500, height=500, min_font_size=10, background_color='#34eb98')\n",
    "wc"
   ]
  },
  {
   "cell_type": "code",
   "execution_count": null,
   "id": "6068a324",
   "metadata": {},
   "outputs": [],
   "source": []
  }
 ],
 "metadata": {
  "kernelspec": {
   "display_name": "Python 3 (ipykernel)",
   "language": "python",
   "name": "python3"
  },
  "language_info": {
   "codemirror_mode": {
    "name": "ipython",
    "version": 3
   },
   "file_extension": ".py",
   "mimetype": "text/x-python",
   "name": "python",
   "nbconvert_exporter": "python",
   "pygments_lexer": "ipython3",
   "version": "3.10.9"
  }
 },
 "nbformat": 4,
 "nbformat_minor": 5
}
